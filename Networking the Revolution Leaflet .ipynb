{
 "cells": [
  {
   "cell_type": "code",
   "execution_count": 1,
   "id": "47e03787",
   "metadata": {},
   "outputs": [
    {
     "name": "stdout",
     "output_type": "stream",
     "text": [
      "Map saved to: network_map_cleaned.html\n"
     ]
    }
   ],
   "source": [
    "import pandas as pd\n",
    "import folium\n",
    "\n",
    "#Using pandas to read in the dataset\n",
    "data = pd.read_csv('Copy of Networking_the_Revolution - INFO (2).csv')\n",
    "\n",
    "# Filter data by dropping rows with NaN values in the 'From' or 'To' columns\n",
    "data_cleaned = data.dropna(subset=['From', 'To']).copy()\n",
    "\n",
    "# Convert coordinates to tuple from a string for better data structure \n",
    "def convert_to_tuple(coord):\n",
    "    if isinstance(coord, str):\n",
    "        if ',' in coord:\n",
    "            return tuple(map(float, coord.split(',')))\n",
    "        elif ' ' in coord:\n",
    "            return tuple(map(float, coord.split()))\n",
    "    raise ValueError(f\"Unexpected coordinate format: {coord}\")\n",
    "\n",
    "# Applying the conversion function to the 'From' and 'To' columns\n",
    "data_cleaned['From'] = data_cleaned['From'].apply(convert_to_tuple)\n",
    "data_cleaned['To'] = data_cleaned['To'].apply(convert_to_tuple)\n",
    "\n",
    "# Creating a base map which is centered around an average location \n",
    "center_lat = data_cleaned['From'].apply(lambda x: x[0]).mean()\n",
    "center_lon = data_cleaned['From'].apply(lambda x: x[1]).mean()\n",
    "m = folium.Map(location=[center_lat, center_lon], zoom_start=5)\n",
    "\n",
    "# Adding markers and lines to map\n",
    "for i, row in data_cleaned.iterrows():\n",
    "    folium.Marker(location=row['From'], popup=f\"ID: {row['ID']} (From)\").add_to(m)\n",
    "    folium.Marker(location=row['To'], popup=f\"ID: {row['ID']} (To)\").add_to(m)\n",
    "    folium.PolyLine(locations=[row['From'], row['To']], color='blue').add_to(m)\n",
    "\n",
    "# Save to HTML file \n",
    "map_file_path = 'network_map_cleaned.html' \n",
    "m.save(map_file_path)\n",
    "\n",
    "# confirm file path to make sure it saved \n",
    "print(f\"Map saved to: {map_file_path}\")"
   ]
  },
  {
   "cell_type": "code",
   "execution_count": 2,
   "id": "baeba884",
   "metadata": {},
   "outputs": [
    {
     "data": {
      "text/html": [
       "\n",
       "        <iframe\n",
       "            width=\"700\"\n",
       "            height=\"500\"\n",
       "            src=\"network_map_cleaned.html\"\n",
       "            frameborder=\"0\"\n",
       "            allowfullscreen\n",
       "            \n",
       "        ></iframe>\n",
       "        "
      ],
      "text/plain": [
       "<IPython.lib.display.IFrame at 0x7fd36fb44520>"
      ]
     },
     "execution_count": 2,
     "metadata": {},
     "output_type": "execute_result"
    }
   ],
   "source": [
    "from IPython.display import IFrame\n",
    "IFrame(src='network_map_cleaned.html', width=700, height=500)"
   ]
  },
  {
   "cell_type": "code",
   "execution_count": null,
   "id": "20dbd97b",
   "metadata": {},
   "outputs": [],
   "source": []
  }
 ],
 "metadata": {
  "kernelspec": {
   "display_name": "Python 3 (ipykernel)",
   "language": "python",
   "name": "python3"
  },
  "language_info": {
   "codemirror_mode": {
    "name": "ipython",
    "version": 3
   },
   "file_extension": ".py",
   "mimetype": "text/x-python",
   "name": "python",
   "nbconvert_exporter": "python",
   "pygments_lexer": "ipython3",
   "version": "3.9.13"
  }
 },
 "nbformat": 4,
 "nbformat_minor": 5
}
